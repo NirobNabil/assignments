{
 "cells": [
  {
   "cell_type": "code",
   "execution_count": 26,
   "metadata": {},
   "outputs": [],
   "source": [
    "import numpy as np\n",
    "import math\n",
    "import torch"
   ]
  },
  {
   "cell_type": "markdown",
   "metadata": {},
   "source": [
    "## Utility functions"
   ]
  },
  {
   "cell_type": "markdown",
   "metadata": {},
   "source": [
    "### storing ascii value of letters"
   ]
  },
  {
   "cell_type": "code",
   "execution_count": 27,
   "metadata": {},
   "outputs": [],
   "source": [
    "import string\n",
    "\n",
    "# ld contains the index of every letter in letters array\n",
    "ld  =  {}\n",
    "letters = [*string.ascii_lowercase]\n",
    "for i, c in enumerate(letters):\n",
    "    ld[c] = i\n",
    "    "
   ]
  },
  {
   "cell_type": "markdown",
   "metadata": {},
   "source": [
    "### function to find modular multiplicative inverse of matrix "
   ]
  },
  {
   "cell_type": "code",
   "execution_count": 28,
   "metadata": {},
   "outputs": [],
   "source": [
    "\n",
    "# finds modular inverse of matrix and raises valueError if it doesnt exist\n",
    "def ModMatrixInverse(A,p):   \n",
    "  \n",
    "  def modInv(a,p):     \n",
    "    for i in range(1,p):\n",
    "      if (i*a)%p==1:\n",
    "        return i\n",
    "    raise ValueError(str(a)+\" has no inverse mod \"+str(p))\n",
    "\n",
    "  # Returns matrix A with the ith row and jth column deleted\n",
    "  def minor(A,i,j):    \n",
    "    A = np.array(A)\n",
    "    minor = np.zeros(shape=(len(A)-1,len(A)-1))\n",
    "    p = 0\n",
    "    for s in range(0,len(minor)):\n",
    "      if p == i:\n",
    "        p = p+1\n",
    "      q = 0\n",
    "      for t in range(0,len(minor)):\n",
    "        if q == j:\n",
    "          q = q+1\n",
    "        minor[s][t] = A[p][q]\n",
    "        q = q+1\n",
    "      p = p + 1\n",
    "    return minor\n",
    "  \n",
    "  n = len(A)\n",
    "  A = np.matrix(A)\n",
    "  adj = np.zeros(shape=(n,n))\n",
    "\n",
    "  for i in range(0,n):\n",
    "    for j in range(0,n):\n",
    "      adj[i][j]=((-1)**(i+j)*int(round(np.linalg.det(minor(A,j,i))))) % p\n",
    "\n",
    "  return (modInv(int(round(np.linalg.det(A))),p)*adj)%p\n",
    "\n"
   ]
  },
  {
   "cell_type": "markdown",
   "metadata": {},
   "source": [
    "## Hill cipher"
   ]
  },
  {
   "cell_type": "markdown",
   "metadata": {},
   "source": [
    "### Encryption algorithm"
   ]
  },
  {
   "cell_type": "code",
   "execution_count": 29,
   "metadata": {},
   "outputs": [],
   "source": [
    "def encrypt( key, cipher ):\n",
    "\n",
    "    # replace letters in key and cipher by their ascii equivalent \n",
    "    key = [ ld[c] for c in key if c in letters ]\n",
    "    cipher = [ ld[c] for c in cipher if c in letters ]\n",
    "\n",
    "    # rc is row count for how many rows will be there in key matrix (key_mat)\n",
    "    rc = int( len(key) / len(cipher) )\n",
    "    key_mat = np.array([[ 0 for _ in range(rc) ] for _ in range(rc)])\n",
    "\n",
    "    # assigning values to key matrix\n",
    "    for i, c in enumerate(key):\n",
    "        key_mat[math.floor(i/rc)][i%rc] = np.int64(c)\n",
    "    print(key_mat)\n",
    "\n",
    "    # standard procedure of hill cipher - matrix multiply key_mat with cipher and mod by 26 to get the plaintext\n",
    "    out_raw = torch.matmul(torch.tensor( cipher ), torch.tensor( np.int64(key_mat.transpose()) ) ) % 26\n",
    "\n",
    "    # out_raw contains the ascii values. so here we are converting these values to characters \n",
    "    out = [ letters[int(i)] for i in out_raw ]\n",
    "\n",
    "    encrypted = ''.join( out )\n",
    "\n",
    "    return encrypted\n",
    "\n"
   ]
  },
  {
   "cell_type": "markdown",
   "metadata": {},
   "source": [
    "### Decryption algorithm"
   ]
  },
  {
   "cell_type": "code",
   "execution_count": 30,
   "metadata": {},
   "outputs": [],
   "source": [
    "def decrypt( key, cipher ):\n",
    "\n",
    "    # replace letters in key and cipher by their ascii equivalent \n",
    "    key = [ ld[c] for c in key if c in letters ]\n",
    "    cipher = [ ld[c] for c in cipher if c in letters ]\n",
    "\n",
    "    # rc is row count for how many rows will be there in key matrix (key_mat)\n",
    "    rc = int( len(key) / len(cipher) )\n",
    "    key_mat = np.array([[ 0 for _ in range(rc) ] for _ in range(rc)])\n",
    " \n",
    "\n",
    "    # assigning values to key matrix\n",
    "    for i, c in enumerate(key):\n",
    "        key_mat[math.floor(i/rc)][i%rc] = c\n",
    "\n",
    "    try:\n",
    "        key_mat = ModMatrixInverse( key_mat, 26 )       # find modular inverse of key matrix\n",
    "    except ValueError:\n",
    "        print( \"inverse of key doesnt exist\" )\n",
    "\n",
    "    # then just standard procedure matrix multiply key_mat with cipher and mod by 26 to get the plaintext\n",
    "    out_raw = np.matmul( np.array( cipher ), key_mat.transpose() ) % 26\n",
    "\n",
    "    # out_raw contains the ascii values. so here we are converting these values to characters \n",
    "    out = [ letters[int(i)] for i in out_raw ]\n",
    "\n",
    "    return ''.join(out)\n"
   ]
  },
  {
   "cell_type": "code",
   "execution_count": 31,
   "metadata": {},
   "outputs": [
    {
     "name": "stdout",
     "output_type": "stream",
     "text": [
      "Encrypting \"sust cse\" using key = awesome introduction to computer security and forensics\n",
      "[[0 0 0 0 0 0 0]\n",
      " [0 0 0 0 0 0 0]\n",
      " [0 0 0 0 0 0 0]\n",
      " [0 0 0 0 0 0 0]\n",
      " [0 0 0 0 0 0 0]\n",
      " [0 0 0 0 0 0 0]\n",
      " [0 0 0 0 0 0 0]]\n",
      "Decrypted text: wjctkzu\n",
      "Decrypting \"wjctkzu\" using key = awesome introduction to computer security and forensics\n",
      "inverse of key doesnt exist\n"
     ]
    }
   ],
   "source": [
    "# key = \"AWESOME INTRODUCTION TO COMPUTER SECURITY AND FORENSICS\".lower()\n",
    "key = \"AWESOME INTRODUCTION TO COMPUTER SECURITY AND FORENSICS\".lower()\n",
    "cipher = \"SUST CSE\".lower()\n",
    "\n",
    "print( f\"Encrypting \\\"{cipher}\\\" using key = {key}\" )\n",
    "encrypted = encrypt( key, cipher )\n",
    "print( \"Decrypted text: \" + encrypted )\n",
    "\n",
    "print( f\"Decrypting \\\"{encrypted}\\\" using key = {key}\" )\n",
    "decrypted = decrypt( key, encrypted )\n"
   ]
  },
  {
   "cell_type": "markdown",
   "metadata": {},
   "source": [
    "I couldn't find a 7x7 invertible matrix with integers that are less than 26. But i did implement the decryption algorithm\n",
    "\n",
    "The following cell is proof that decryption algorithm works"
   ]
  },
  {
   "cell_type": "code",
   "execution_count": 32,
   "metadata": {},
   "outputs": [
    {
     "name": "stdout",
     "output_type": "stream",
     "text": [
      "Decrypting \"poh\" using key = gybnqkurp\n",
      "Decrypted text: act\n"
     ]
    }
   ],
   "source": [
    "encrypted = \"POH\".lower()\n",
    "key = \"GYBNQKURP\".lower()\n",
    "\n",
    "print( f\"Decrypting \\\"{encrypted}\\\" using key = {key}\" )\n",
    "print( \"Decrypted text: \" + decrypt(key, encrypted) )"
   ]
  }
 ],
 "metadata": {
  "kernelspec": {
   "display_name": "security",
   "language": "python",
   "name": "python3"
  },
  "language_info": {
   "codemirror_mode": {
    "name": "ipython",
    "version": 3
   },
   "file_extension": ".py",
   "mimetype": "text/x-python",
   "name": "python",
   "nbconvert_exporter": "python",
   "pygments_lexer": "ipython3",
   "version": "3.11.5"
  }
 },
 "nbformat": 4,
 "nbformat_minor": 2
}
