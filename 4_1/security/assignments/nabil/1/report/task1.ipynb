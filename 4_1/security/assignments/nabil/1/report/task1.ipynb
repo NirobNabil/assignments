{
 "cells": [
  {
   "cell_type": "code",
   "execution_count": null,
   "metadata": {},
   "outputs": [],
   "source": [
    "!pip install pyenchant"
   ]
  },
  {
   "cell_type": "code",
   "execution_count": 16,
   "metadata": {},
   "outputs": [],
   "source": [
    "import enchant \n",
    "\n",
    "# enchant can match dictionary words\n",
    "d = enchant.Dict(\"en-US\")"
   ]
  },
  {
   "cell_type": "code",
   "execution_count": 40,
   "metadata": {},
   "outputs": [],
   "source": [
    "\n",
    "# checkks if at least of of the words from the text exists in dictinoary\n",
    "def check_valid( text ):\n",
    "    for i in text.split(' '):\n",
    "        if d.check(i):\n",
    "            return True\n",
    "    \n",
    "    return False"
   ]
  },
  {
   "cell_type": "code",
   "execution_count": 1,
   "metadata": {},
   "outputs": [],
   "source": [
    "\n",
    "import string\n",
    "\n",
    "# implementation of caeser decrpt\n",
    "def decrypt( key, ciphertext ):\n",
    "\n",
    "    letters = [*string.ascii_uppercase]  # list of all available letters\n",
    "    table = {}                           # keeps track of mapping of letters to replace\n",
    "    \n",
    "    for i, c in enumerate(letters):\n",
    "        table[c] = letters[ (i-key) % 26 ]      # forr every letter set a mapping for it according to the shift ( shift is the variable `key` here )\n",
    "\n",
    "    decrypted = []\n",
    "    for c in [*ciphertext]:\n",
    "        if c in letters:\n",
    "            decrypted.append(table[c])          # just replace by mapping if the letter is a valid english letter\n",
    "        else:\n",
    "            decrypted.append(c)\n",
    "\n",
    "    return ''.join(decrypted)\n"
   ]
  },
  {
   "cell_type": "code",
   "execution_count": 3,
   "metadata": {},
   "outputs": [
    {
     "name": "stdout",
     "output_type": "stream",
     "text": [
      "output for key 0 is XNZ XVMIDQVG VO DDXO WPDGYDIB NPNO DN BJDIB OJ WZ BMZVO VBVDI \n",
      "output for key 1 is WMY WULHCPUF UN CCWN VOCFXCHA MOMN CM AICHA NI VY ALYUN UAUCH \n",
      "output for key 2 is VLX VTKGBOTE TM BBVM UNBEWBGZ LNLM BL ZHBGZ MH UX ZKXTM TZTBG \n",
      "output for key 3 is UKW USJFANSD SL AAUL TMADVAFY KMKL AK YGAFY LG TW YJWSL SYSAF \n",
      "output for key 4 is TJV TRIEZMRC RK ZZTK SLZCUZEX JLJK ZJ XFZEX KF SV XIVRK RXRZE \n",
      "output for key 5 is SIU SQHDYLQB QJ YYSJ RKYBTYDW IKIJ YI WEYDW JE RU WHUQJ QWQYD \n",
      "output for key 6 is RHT RPGCXKPA PI XXRI QJXASXCV HJHI XH VDXCV ID QT VGTPI PVPXC \n",
      "output for key 7 is QGS QOFBWJOZ OH WWQH PIWZRWBU GIGH WG UCWBU HC PS UFSOH OUOWB \n",
      "output for key 8 is PFR PNEAVINY NG VVPG OHVYQVAT FHFG VF TBVAT GB OR TERNG NTNVA \n",
      "output for key 9 is OEQ OMDZUHMX MF UUOF NGUXPUZS EGEF UE SAUZS FA NQ SDQMF MSMUZ \n",
      "output for key 10 is NDP NLCYTGLW LE TTNE MFTWOTYR DFDE TD RZTYR EZ MP RCPLE LRLTY \n",
      "output for key 11 is MCO MKBXSFKV KD SSMD LESVNSXQ CECD SC QYSXQ DY LO QBOKD KQKSX \n",
      "output for key 12 is LBN LJAWREJU JC RRLC KDRUMRWP BDBC RB PXRWP CX KN PANJC JPJRW \n",
      "output for key 13 is KAM KIZVQDIT IB QQKB JCQTLQVO ACAB QA OWQVO BW JM OZMIB IOIQV \n",
      "output for key 14 is JZL JHYUPCHS HA PPJA IBPSKPUN ZBZA PZ NVPUN AV IL NYLHA HNHPU \n",
      "output for key 15 is IYK IGXTOBGR GZ OOIZ HAORJOTM YAYZ OY MUOTM ZU HK MXKGZ GMGOT \n",
      "output for key 16 is HXJ HFWSNAFQ FY NNHY GZNQINSL XZXY NX LTNSL YT GJ LWJFY FLFNS \n",
      "output for key 17 is GWI GEVRMZEP EX MMGX FYMPHMRK WYWX MW KSMRK XS FI KVIEX EKEMR \n",
      "output for key 18 is FVH FDUQLYDO DW LLFW EXLOGLQJ VXVW LV JRLQJ WR EH JUHDW DJDLQ \n",
      "output for key 19 is EUG ECTPKXCN CV KKEV DWKNFKPI UWUV KU IQKPI VQ DG ITGCV CICKP \n",
      "output for key 20 is DTF DBSOJWBM BU JJDU CVJMEJOH TVTU JT HPJOH UP CF HSFBU BHBJO \n",
      "output for key 21 is CSE CARNIVAL AT IICT BUILDING SUST IS GOING TO BE GREAT AGAIN \n",
      "output for key 22 is BRD BZQMHUZK ZS HHBS ATHKCHMF RTRS HR FNHMF SN AD FQDZS ZFZHM \n",
      "output for key 23 is AQC AYPLGTYJ YR GGAR ZSGJBGLE QSQR GQ EMGLE RM ZC EPCYR YEYGL \n",
      "output for key 24 is ZPB ZXOKFSXI XQ FFZQ YRFIAFKD PRPQ FP DLFKD QL YB DOBXQ XDXFK \n",
      "output for key 25 is YOA YWNJERWH WP EEYP XQEHZEJC OQOP EO CKEJC PK XA CNAWP WCWEJ \n",
      "output for key 26 is XNZ XVMIDQVG VO DDXO WPDGYDIB NPNO DN BJDIB OJ WZ BMZVO VBVDI \n"
     ]
    }
   ],
   "source": [
    "\n",
    "# for every possible shift/key value checking which key outputs meaningful sentence\n",
    "for i in range(27):\n",
    "    v = decrypt(i, \"XNZ XVMIDQVG VO DDXO WPDGYDIB NPNO DN BJDIB OJ WZ BMZVO VBVDI\")\n",
    "    print( f\"output for key {i} is {v} \")"
   ]
  },
  {
   "cell_type": "markdown",
   "metadata": {},
   "source": [
    "### It can be seen that the key 21 provides readable text. So 21 is the key"
   ]
  },
  {
   "cell_type": "code",
   "execution_count": 4,
   "metadata": {},
   "outputs": [
    {
     "name": "stdout",
     "output_type": "stream",
     "text": [
      "output for key 0 is ZKDW GR BRX JHW ZKHQ BRX FURVV D VQRZPDQ ZLWK D YDPSLUH? IURVWELWH \n",
      "output for key 1 is YJCV FQ AQW IGV YJGP AQW ETQUU C UPQYOCP YKVJ C XCORKTG? HTQUVDKVG \n",
      "output for key 2 is XIBU EP ZPV HFU XIFO ZPV DSPTT B TOPXNBO XJUI B WBNQJSF? GSPTUCJUF \n",
      "output for key 3 is WHAT DO YOU GET WHEN YOU CROSS A SNOWMAN WITH A VAMPIRE? FROSTBITE \n",
      "output for key 4 is VGZS CN XNT FDS VGDM XNT BQNRR Z RMNVLZM VHSG Z UZLOHQD? EQNRSAHSD \n",
      "output for key 5 is UFYR BM WMS ECR UFCL WMS APMQQ Y QLMUKYL UGRF Y TYKNGPC? DPMQRZGRC \n",
      "output for key 6 is TEXQ AL VLR DBQ TEBK VLR ZOLPP X PKLTJXK TFQE X SXJMFOB? COLPQYFQB \n",
      "output for key 7 is SDWP ZK UKQ CAP SDAJ UKQ YNKOO W OJKSIWJ SEPD W RWILENA? BNKOPXEPA \n",
      "output for key 8 is RCVO YJ TJP BZO RCZI TJP XMJNN V NIJRHVI RDOC V QVHKDMZ? AMJNOWDOZ \n",
      "output for key 9 is QBUN XI SIO AYN QBYH SIO WLIMM U MHIQGUH QCNB U PUGJCLY? ZLIMNVCNY \n",
      "output for key 10 is PATM WH RHN ZXM PAXG RHN VKHLL T LGHPFTG PBMA T OTFIBKX? YKHLMUBMX \n",
      "output for key 11 is OZSL VG QGM YWL OZWF QGM UJGKK S KFGOESF OALZ S NSEHAJW? XJGKLTALW \n",
      "output for key 12 is NYRK UF PFL XVK NYVE PFL TIFJJ R JEFNDRE NZKY R MRDGZIV? WIFJKSZKV \n",
      "output for key 13 is MXQJ TE OEK WUJ MXUD OEK SHEII Q IDEMCQD MYJX Q LQCFYHU? VHEIJRYJU \n",
      "output for key 14 is LWPI SD NDJ VTI LWTC NDJ RGDHH P HCDLBPC LXIW P KPBEXGT? UGDHIQXIT \n",
      "output for key 15 is KVOH RC MCI USH KVSB MCI QFCGG O GBCKAOB KWHV O JOADWFS? TFCGHPWHS \n",
      "output for key 16 is JUNG QB LBH TRG JURA LBH PEBFF N FABJZNA JVGU N INZCVER? SEBFGOVGR \n",
      "output for key 17 is ITMF PA KAG SQF ITQZ KAG ODAEE M EZAIYMZ IUFT M HMYBUDQ? RDAEFNUFQ \n",
      "output for key 18 is HSLE OZ JZF RPE HSPY JZF NCZDD L DYZHXLY HTES L GLXATCP? QCZDEMTEP \n",
      "output for key 19 is GRKD NY IYE QOD GROX IYE MBYCC K CXYGWKX GSDR K FKWZSBO? PBYCDLSDO \n",
      "output for key 20 is FQJC MX HXD PNC FQNW HXD LAXBB J BWXFVJW FRCQ J EJVYRAN? OAXBCKRCN \n",
      "output for key 21 is EPIB LW GWC OMB EPMV GWC KZWAA I AVWEUIV EQBP I DIUXQZM? NZWABJQBM \n",
      "output for key 22 is DOHA KV FVB NLA DOLU FVB JYVZZ H ZUVDTHU DPAO H CHTWPYL? MYVZAIPAL \n",
      "output for key 23 is CNGZ JU EUA MKZ CNKT EUA IXUYY G YTUCSGT COZN G BGSVOXK? LXUYZHOZK \n",
      "output for key 24 is BMFY IT DTZ LJY BMJS DTZ HWTXX F XSTBRFS BNYM F AFRUNWJ? KWTXYGNYJ \n",
      "output for key 25 is ALEX HS CSY KIX ALIR CSY GVSWW E WRSAQER AMXL E ZEQTMVI? JVSWXFMXI \n"
     ]
    }
   ],
   "source": [
    "\n",
    "ciphertext = \"ZKDW GR BRX JHW ZKHQ BRX FURVV D VQRZPDQ ZLWK D YDPSLUH? IURVWELWH\"\n",
    "\n",
    "# for every possible shift/key value checking which key outputs meaningful sentence\n",
    "for key in range(26):\n",
    "    decrypted = decrypt( key, ciphertext )\n",
    "    print( f\"output for key {key} is {decrypted} \")"
   ]
  },
  {
   "cell_type": "markdown",
   "metadata": {},
   "source": [
    "> ### it is apparent from the outputs above that `3` is the key"
   ]
  }
 ],
 "metadata": {
  "kernelspec": {
   "display_name": "security",
   "language": "python",
   "name": "python3"
  },
  "language_info": {
   "codemirror_mode": {
    "name": "ipython",
    "version": 3
   },
   "file_extension": ".py",
   "mimetype": "text/x-python",
   "name": "python",
   "nbconvert_exporter": "python",
   "pygments_lexer": "ipython3",
   "version": "3.12.1"
  }
 },
 "nbformat": 4,
 "nbformat_minor": 2
}
