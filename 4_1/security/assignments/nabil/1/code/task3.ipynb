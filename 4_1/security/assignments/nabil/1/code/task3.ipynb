{
 "cells": [
  {
   "cell_type": "code",
   "execution_count": null,
   "metadata": {},
   "outputs": [],
   "source": [
    "import string\n",
    "\n",
    "# ld contains the index of every letter in letters array\n",
    "ld = {}\n",
    "letters = [*string.ascii_lowercase]\n",
    "for i, c in enumerate(letters):\n",
    "    ld[c] = i\n"
   ]
  },
  {
   "cell_type": "code",
   "execution_count": null,
   "metadata": {},
   "outputs": [],
   "source": [
    "\n",
    "i = 0\n",
    "def encrypt( key, cipher ):\n",
    "    global i\n",
    "    i = 0\n",
    "    r = []\n",
    "\n",
    "    for w in cipher.split(' '):\n",
    "        g = \"\"\n",
    "        for _, c in enumerate( [*w] ):\n",
    "            if c in letters:\n",
    "\n",
    "                # the formula here is to add the ascii values of the letter at position `i` of ciphertext and key\n",
    "                # while subtracting the ascii value of `a` from them. and then mod this value by total number of available english letters\n",
    "                # this value is the ascii value of the letter to replace `c` by minus ascii value of `a`\n",
    "                g += letters[ ( ld[c] + ld[ key[i % len(key)] ] ) % 26 ]\n",
    "                i = i+1\n",
    "\n",
    "        r.append(g)\n",
    "\n",
    "    return ' '.join(r)"
   ]
  },
  {
   "cell_type": "code",
   "execution_count": null,
   "metadata": {},
   "outputs": [],
   "source": [
    "i = 0\n",
    "def decrypt( key, cipher ):\n",
    "    global i\n",
    "    i = 0\n",
    "    r = []\n",
    "    for w in cipher.split(' '):\n",
    "        g = \"\"\n",
    "        for _, c in enumerate( [*w] ):\n",
    "            if c in letters:\n",
    "\n",
    "                # the process is same here except for adding we are subtracting the order of the letter from key\n",
    "                g += letters[ ( ld[c] - ld[ key[i % len(key)] ] ) % 26 ]\n",
    "                i = i+1\n",
    "\n",
    "        r.append(g)\n",
    "\n",
    "    return ' '.join(r)"
   ]
  },
  {
   "cell_type": "code",
   "execution_count": null,
   "metadata": {},
   "outputs": [],
   "source": [
    "plaintext = \"\"\"CSE FINAL YEAR THEORY COURSE INTRODUCTION TO COMPUER SECURITY AND FORENSICS\"\"\".lower()\n",
    "\n",
    "key = \"SUSTCSE\".lower()\n",
    "\n",
    "print( f\"Encrypting \\\"{plaintext}\\\" using key = {key}\")\n",
    "encrypted = encrypt(key, plaintext)\n",
    "print( \"Encrypted text: \" + encrypted + \"\\n\" )\n",
    "\n",
    "print( f\"Decrypting \\\"{encrypted}\\\" using key = {key}\")\n",
    "encrypted = decrypt(key, encrypted)\n",
    "print( \"Decrypted text: \" + encrypted + \"\\n\" )"
   ]
  }
 ],
 "metadata": {
  "kernelspec": {
   "display_name": "security",
   "language": "python",
   "name": "python3"
  },
  "language_info": {
   "codemirror_mode": {
    "name": "ipython",
    "version": 3
   },
   "file_extension": ".py",
   "mimetype": "text/x-python",
   "name": "python",
   "nbconvert_exporter": "python",
   "pygments_lexer": "ipython3",
   "version": "3.12.1"
  }
 },
 "nbformat": 4,
 "nbformat_minor": 2
}
