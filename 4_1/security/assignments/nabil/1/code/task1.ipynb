{
 "cells": [
  {
   "cell_type": "code",
   "execution_count": null,
   "metadata": {},
   "outputs": [],
   "source": [
    "!pip install pyenchant"
   ]
  },
  {
   "cell_type": "code",
   "execution_count": null,
   "metadata": {},
   "outputs": [],
   "source": [
    "import enchant \n",
    "\n",
    "# enchant can match dictionary words\n",
    "d = enchant.Dict(\"en-US\")"
   ]
  },
  {
   "cell_type": "code",
   "execution_count": null,
   "metadata": {},
   "outputs": [],
   "source": [
    "\n",
    "# checkks if at least of of the words from the text exists in dictinoary\n",
    "def check_valid( text ):\n",
    "    for i in text.split(' '):\n",
    "        if d.check(i):\n",
    "            return True\n",
    "    \n",
    "    return False"
   ]
  },
  {
   "cell_type": "code",
   "execution_count": null,
   "metadata": {},
   "outputs": [],
   "source": [
    "\n",
    "import string\n",
    "\n",
    "# implementation of caeser decrpt\n",
    "def decrypt( key, ciphertext ):\n",
    "\n",
    "    letters = [*string.ascii_uppercase]  # list of all available letters\n",
    "    table = {}                           # keeps track of mapping of letters to replace\n",
    "    \n",
    "    for i, c in enumerate(letters):\n",
    "        table[c] = letters[ (i-key) % 26 ]      # forr every letter set a mapping for it according to the shift ( shift is the variable `key` here )\n",
    "\n",
    "    decrypted = []\n",
    "    for c in [*ciphertext]:\n",
    "        if c in letters:\n",
    "            decrypted.append(table[c])          # just replace by mapping if the letter is a valid english letter\n",
    "        else:\n",
    "            decrypted.append(c)\n",
    "\n",
    "    return ''.join(decrypted)\n"
   ]
  },
  {
   "cell_type": "code",
   "execution_count": null,
   "metadata": {},
   "outputs": [],
   "source": [
    "\n",
    "# for every possible shift/key value checking which key outputs meaningful sentence\n",
    "for i in range(27):\n",
    "    v = decrypt(i, \"XNZ XVMIDQVG VO DDXO WPDGYDIB NPNO DN BJDIB OJ WZ BMZVO VBVDI\")\n",
    "    print( f\"output for key {i} is {v} \")"
   ]
  },
  {
   "cell_type": "code",
   "execution_count": null,
   "metadata": {},
   "outputs": [],
   "source": [
    "\n",
    "ciphertext = \"ZKDW GR BRX JHW ZKHQ BRX FURVV D VQRZPDQ ZLWK D YDPSLUH? IURVWELWH\"\n",
    "\n",
    "# for every possible shift/key value checking which key outputs meaningful sentence\n",
    "for key in range(26):\n",
    "    decrypted = decrypt( key, ciphertext )\n",
    "    print( f\"output for key {key} is {decrypted} \")"
   ]
  }
 ],
 "metadata": {
  "kernelspec": {
   "display_name": "security",
   "language": "python",
   "name": "python3"
  },
  "language_info": {
   "codemirror_mode": {
    "name": "ipython",
    "version": 3
   },
   "file_extension": ".py",
   "mimetype": "text/x-python",
   "name": "python",
   "nbconvert_exporter": "python",
   "pygments_lexer": "ipython3",
   "version": "3.12.1"
  }
 },
 "nbformat": 4,
 "nbformat_minor": 2
}
