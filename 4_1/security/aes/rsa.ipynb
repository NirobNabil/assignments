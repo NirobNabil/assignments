{
  "cells": [
    {
      "cell_type": "code",
      "execution_count": 27,
      "metadata": {
        "id": "cTFn9UWyYvkc"
      },
      "outputs": [],
      "source": [
        "import random\n",
        "import sympy\n",
        "import time\n",
        "\n",
        "\n",
        "def generate_prime(bit_size):\n",
        "    def is_prime(num):\n",
        "        if num <= 1:\n",
        "            return False\n",
        "        if num <= 3:\n",
        "            return True\n",
        "        if num % 2 == 0 or num % 3 == 0:\n",
        "            return False\n",
        "        i = 5\n",
        "        while i * i <= num:\n",
        "            if num % i == 0 or num % (i + 2) == 0:\n",
        "                return False\n",
        "            i += 6\n",
        "        return True\n",
        "\n",
        "    min_value = 2 ** (bit_size - 1)\n",
        "    max_value = 2 ** bit_size - 1\n",
        "    prime = random.randint(min_value, max_value)\n",
        "    while not is_prime(prime):\n",
        "        prime = random.randint(min_value, max_value)\n",
        "    return prime\n",
        "\n",
        "def generate_keypair(bit_size):\n",
        "    p = generate_prime(bit_size // 2)\n",
        "    q = generate_prime(bit_size // 2)\n",
        "\n",
        "    n = p * q\n",
        "\n",
        "    phi_n = (p - 1) * (q - 1)\n",
        "\n",
        "    min_e = 2 ** (bit_size // 2 - 1)\n",
        "    max_e = 2 ** (bit_size // 2)\n",
        "    e = random.randint(min_e, max_e)\n",
        "    while e % phi_n == 0 or sympy.gcd(e, phi_n) != 1:\n",
        "        e = random.randint(min_e, max_e)\n",
        "\n",
        "    d = sympy.mod_inverse(e, phi_n)\n",
        "\n",
        "    public_key = (e, n)\n",
        "    private_key = (d, n)\n",
        "\n",
        "    return public_key, private_key\n",
        "\n",
        "def encrypt(public_key, plaintext):\n",
        "    e, n = public_key\n",
        "    ciphertext = [pow(ord(char), e, n) for char in plaintext]\n",
        "    return ciphertext\n",
        "\n",
        "def decrypt(private_key, ciphertext):\n",
        "    d, n = private_key\n",
        "    plaintext = ''.join([chr(pow(char, d, n)) for char in ciphertext])\n",
        "    return plaintext\n",
        "\n",
        "\n"
      ]
    },
    {
      "cell_type": "code",
      "execution_count": 28,
      "metadata": {
        "id": "0_tUYpB4l-qi"
      },
      "outputs": [],
      "source": [
        "def rsa(plaintext, bit_size):\n",
        "  # Record the starting time\n",
        "  start_time = time.time()\n",
        "\n",
        "  message = plaintext\n",
        "  print(\"Original message:\", message)\n",
        "\n",
        "  public_key, private_key = generate_keypair(bit_size)\n",
        "  print(\"public_key  :  \", public_key)\n",
        "  print()\n",
        "  print(\"private_key  :  \", private_key)\n",
        "  print()\n",
        "\n",
        "\n",
        "  encryption_time_st = time.time()\n",
        "  encrypted_message = encrypt(public_key, message)\n",
        "  print(\"Encrypted message:\", encrypted_message)\n",
        "  print(\"Encryption time : \", time.time()-encryption_time_st)\n",
        "  print()\n",
        "\n",
        "\n",
        "  decryption_time_st = time.time()\n",
        "  decrypted_message = decrypt(private_key, encrypted_message)\n",
        "  print(\"Decrypted message:\", decrypted_message)\n",
        "  print(\"Decryption time : \", time.time()-decryption_time_st)\n",
        "  print()\n",
        "\n",
        "\n",
        "  # Record the ending time\n",
        "  end_time = time.time()\n",
        "\n",
        "  # Calculate the execution time\n",
        "  execution_time = end_time - start_time\n",
        "  print(\"total execution time :  \", execution_time)"
      ]
    },
    {
      "cell_type": "markdown",
      "metadata": {
        "id": "LrqFqtoZnc3q"
      },
      "source": [
        "#**RSA sample input 1**"
      ]
    },
    {
      "cell_type": "code",
      "execution_count": 29,
      "metadata": {
        "colab": {
          "base_uri": "https://localhost:8080/"
        },
        "id": "Tt33zXzxnRqp",
        "outputId": "80bf3223-d7ee-4216-abf2-960ccc4edb9c"
      },
      "outputs": [
        {
          "name": "stdout",
          "output_type": "stream",
          "text": [
            "Original message: BUETCSEVSSUSTCSE\n",
            "public_key  :   (139, 41567)\n",
            "\n",
            "private_key  :   (7699, 41567)\n",
            "\n",
            "Encrypted message: [26346, 30126, 13810, 14313, 38887, 39025, 13810, 26824, 39025, 39025, 30126, 39025, 14313, 38887, 39025, 13810]\n",
            "Encryption time :  0.0007872581481933594\n",
            "\n",
            "Decrypted message: BUETCSEVSSUSTCSE\n",
            "Decryption time :  0.0009639263153076172\n",
            "\n",
            "total execution time :   0.011989116668701172\n"
          ]
        }
      ],
      "source": [
        "plaintext = \"BUETCSEVSSUSTCSE\"\n",
        "bit_size = 16\n",
        "rsa(plaintext,bit_size)"
      ]
    },
    {
      "cell_type": "markdown",
      "metadata": {
        "id": "EuhC7VZDn1_O"
      },
      "source": [
        "#**RSA - sample input 2**"
      ]
    },
    {
      "cell_type": "code",
      "execution_count": 30,
      "metadata": {
        "colab": {
          "base_uri": "https://localhost:8080/"
        },
        "id": "3Y0XUTMPn1YJ",
        "outputId": "39c62fd0-8b1f-425f-b895-e0eb26344ae4"
      },
      "outputs": [
        {
          "name": "stdout",
          "output_type": "stream",
          "text": [
            "Original message: BUETCSEVSSUSTCSE\n",
            "public_key  :   (57941, 2308158719)\n",
            "\n",
            "private_key  :   (2186764925, 2308158719)\n",
            "\n",
            "Encrypted message: [1286542510, 1399021687, 1962413103, 895338371, 814345027, 1250051139, 1962413103, 606991419, 1250051139, 1250051139, 1399021687, 1250051139, 895338371, 814345027, 1250051139, 1962413103]\n",
            "Encryption time :  0.00015044212341308594\n",
            "\n",
            "Decrypted message: BUETCSEVSSUSTCSE\n",
            "Decryption time :  0.00024962425231933594\n",
            "\n",
            "total execution time :   0.009210824966430664\n"
          ]
        }
      ],
      "source": [
        "plaintext = \"BUETCSEVSSUSTCSE\"\n",
        "bit_size = 32\n",
        "rsa(plaintext,bit_size)"
      ]
    },
    {
      "cell_type": "markdown",
      "metadata": {
        "id": "2nfTAUi-n7rR"
      },
      "source": [
        "#**RSA - sample input 3**"
      ]
    },
    {
      "cell_type": "code",
      "execution_count": 31,
      "metadata": {
        "colab": {
          "base_uri": "https://localhost:8080/"
        },
        "id": "KStptR60n5iz",
        "outputId": "ceba94b3-e5d5-4e39-e5a1-6457bb255e9f"
      },
      "outputs": [
        {
          "name": "stdout",
          "output_type": "stream",
          "text": [
            "Original message: BUETCSEVSSUSTCSE\n",
            "public_key  :   (4068063115, 14802966596111737081)\n",
            "\n",
            "private_key  :   (826591638077181495, 14802966596111737081)\n",
            "\n",
            "Encrypted message: [7215562853308203082, 12103769716448652282, 4661955876606302729, 4231497572933711300, 12789378696705405935, 8562294349592896412, 4661955876606302729, 442396188392586449, 8562294349592896412, 8562294349592896412, 12103769716448652282, 8562294349592896412, 4231497572933711300, 12789378696705405935, 8562294349592896412, 4661955876606302729]\n",
            "Encryption time :  0.0012140274047851562\n",
            "\n",
            "Decrypted message: BUETCSEVSSUSTCSE\n",
            "Decryption time :  0.0015575885772705078\n",
            "\n",
            "total execution time :   0.024094104766845703\n"
          ]
        }
      ],
      "source": [
        "plaintext = \"BUETCSEVSSUSTCSE\"\n",
        "bit_size = 64\n",
        "rsa(plaintext,bit_size)"
      ]
    },
    {
      "cell_type": "markdown",
      "metadata": {
        "id": "5y_T7m1Fn-A1"
      },
      "source": [
        "#**RSA - sample input 4**"
      ]
    },
    {
      "cell_type": "code",
      "execution_count": 32,
      "metadata": {
        "colab": {
          "base_uri": "https://localhost:8080/"
        },
        "id": "A4qjtLVOn6tc",
        "outputId": "132be301-6e84-4b51-a360-1587fb72e2b0"
      },
      "outputs": [
        {
          "name": "stdout",
          "output_type": "stream",
          "text": [
            "Original message: BUETCSEVSSUSTCSE\n",
            "public_key  :   (179806808681525, 39283398962360517406384220087)\n",
            "\n",
            "private_key  :   (33212894178183856316445703613, 39283398962360517406384220087)\n",
            "\n",
            "Encrypted message: [555746088010368242619253329, 13438963718846998203465037077, 21543938174116980984269326355, 6358344710468389106422050320, 29574680055604450594653596231, 1880421066146005731870456469, 21543938174116980984269326355, 37135862565212532508633957959, 1880421066146005731870456469, 1880421066146005731870456469, 13438963718846998203465037077, 1880421066146005731870456469, 6358344710468389106422050320, 29574680055604450594653596231, 1880421066146005731870456469, 21543938174116980984269326355]\n",
            "Encryption time :  0.00069427490234375\n",
            "\n",
            "Decrypted message: BUETCSEVSSUSTCSE\n",
            "Decryption time :  0.0019979476928710938\n",
            "\n",
            "total execution time :   2.0594420433044434\n"
          ]
        }
      ],
      "source": [
        "plaintext = \"BUETCSEVSSUSTCSE\"\n",
        "bit_size = 96\n",
        "rsa(plaintext,bit_size)"
      ]
    },
    {
      "cell_type": "code",
      "execution_count": 6,
      "metadata": {},
      "outputs": [
        {
          "name": "stdout",
          "output_type": "stream",
          "text": [
            "0x54\n",
            "0x68\n",
            "0x61\n",
            "0x74\n",
            "0x73\n",
            "0x20\n",
            "0x6d\n",
            "0x79\n",
            "0x20\n",
            "0x4b\n",
            "0x75\n",
            "0x6e\n",
            "0x67\n",
            "0x20\n",
            "0x46\n",
            "0x75\n"
          ]
        }
      ],
      "source": [
        "gg = \"asdasdasd\"\n",
        "plaintext_hex = []\n",
        "\n",
        "for i in gg:\n",
        "    plaintext_hex.append( hex(ord(i)) )"
      ]
    }
  ],
  "metadata": {
    "colab": {
      "provenance": []
    },
    "kernelspec": {
      "display_name": "Python 3",
      "name": "python3"
    },
    "language_info": {
      "codemirror_mode": {
        "name": "ipython",
        "version": 3
      },
      "file_extension": ".py",
      "mimetype": "text/x-python",
      "name": "python",
      "nbconvert_exporter": "python",
      "pygments_lexer": "ipython3",
      "version": "3.11.5"
    }
  },
  "nbformat": 4,
  "nbformat_minor": 0
}
