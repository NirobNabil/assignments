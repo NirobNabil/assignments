{
  "nbformat": 4,
  "nbformat_minor": 0,
  "metadata": {
    "colab": {
      "provenance": []
    },
    "kernelspec": {
      "name": "python3",
      "display_name": "Python 3"
    },
    "language_info": {
      "name": "python"
    }
  },
  "cells": [
    {
      "cell_type": "markdown",
      "source": [
        "#**AES constants**"
      ],
      "metadata": {
        "id": "YrejxvmvMQTQ"
      }
    },
    {
      "cell_type": "code",
      "source": [
        "!pip install BitVector\n",
        "from BitVector import *\n",
        "import numpy as np\n",
        "\n",
        "# Mapping Matrix Required For Using in SubBytes Step\n",
        "Sbox = (\n",
        "    '0x63', '0x7C', '0x77', '0x7B', '0xF2', '0x6B', '0x6F', '0xC5', '0x30', '0x01', '0x67', '0x2B', '0xFE', '0xD7', '0xAB', '0x76',\n",
        "    '0xCA', '0x82', '0xC9', '0x7D', '0xFA', '0x59', '0x47', '0xF0', '0xAD', '0xD4', '0xA2', '0xAF', '0x9C', '0xA4', '0x72', '0xC0',\n",
        "    '0xB7', '0xFD', '0x93', '0x26', '0x36', '0x3F', '0xF7', '0xCC', '0x34', '0xA5', '0xE5', '0xF1', '0x71', '0xD8', '0x31', '0x15',\n",
        "    '0x04', '0xC7', '0x23', '0xC3', '0x18', '0x96', '0x05', '0x9A', '0x07', '0x12', '0x80', '0xE2', '0xEB', '0x27', '0xB2', '0x75',\n",
        "    '0x09', '0x83', '0x2C', '0x1A', '0x1B', '0x6E', '0x5A', '0xA0', '0x52', '0x3B', '0xD6', '0xB3', '0x29', '0xE3', '0x2F', '0x84',\n",
        "    '0x53', '0xD1', '0x00', '0xED', '0x20', '0xFC', '0xB1', '0x5B', '0x6A', '0xCB', '0xBE', '0x39', '0x4A', '0x4C', '0x58', '0xCF',\n",
        "    '0xD0', '0xEF', '0xAA', '0xFB', '0x43', '0x4D', '0x33', '0x85', '0x45', '0xF9', '0x02', '0x7F', '0x50', '0x3C', '0x9F', '0xA8',\n",
        "    '0x51', '0xA3', '0x40', '0x8F', '0x92', '0x9D', '0x38', '0xF5', '0xBC', '0xB6', '0xDA', '0x21', '0x10', '0xFF', '0xF3', '0xD2',\n",
        "    '0xCD', '0x0C', '0x13', '0xEC', '0x5F', '0x97', '0x44', '0x17', '0xC4', '0xA7', '0x7E', '0x3D', '0x64', '0x5D', '0x19', '0x73',\n",
        "    '0x60', '0x81', '0x4F', '0xDC', '0x22', '0x2A', '0x90', '0x88', '0x46', '0xEE', '0xB8', '0x14', '0xDE', '0x5E', '0x0B', '0xDB',\n",
        "    '0xE0', '0x32', '0x3A', '0x0A', '0x49', '0x06', '0x24', '0x5C', '0xC2', '0xD3', '0xAC', '0x62', '0x91', '0x95', '0xE4', '0x79',\n",
        "    '0xE7', '0xC8', '0x37', '0x6D', '0x8D', '0xD5', '0x4E', '0xA9', '0x6C', '0x56', '0xF4', '0xEA', '0x65', '0x7A', '0xAE', '0x08',\n",
        "    '0xBA', '0x78', '0x25', '0x2E', '0x1C', '0xA6', '0xB4', '0xC6', '0xE8', '0xDD', '0x74', '0x1F', '0x4B', '0xBD', '0x8B', '0x8A',\n",
        "    '0x70', '0x3E', '0xB5', '0x66', '0x48', '0x03', '0xF6', '0x0E', '0x61', '0x35', '0x57', '0xB9', '0x86', '0xC1', '0x1D', '0x9E',\n",
        "    '0xE1', '0xF8', '0x98', '0x11', '0x69', '0xD9', '0x8E', '0x94', '0x9B', '0x1E', '0x87', '0xE9', '0xCE', '0x55', '0x28', '0xDF',\n",
        "    '0x8C', '0xA1', '0x89', '0x0D', '0xBF', '0xE6', '0x42', '0x68', '0x41', '0x99', '0x2D', '0x0F', '0xB0', '0x54', '0xBB', '0x16',\n",
        ")\n",
        "\n",
        "\n",
        "# Mapping Matrix Required For Using in InvSubBytes Step\n",
        "InvSbox = (\n",
        "    '0x52', '0x09', '0x6A', '0xD5', '0x30', '0x36', '0xA5', '0x38', '0xBF', '0x40', '0xA3', '0x9E', '0x81', '0xF3', '0xD7', '0xFB',\n",
        "    '0x7C', '0xE3', '0x39', '0x82', '0x9B', '0x2F', '0xFF', '0x87', '0x34', '0x8E', '0x43', '0x44', '0xC4', '0xDE', '0xE9', '0xCB',\n",
        "    '0x54', '0x7B', '0x94', '0x32', '0xA6', '0xC2', '0x23', '0x3D', '0xEE', '0x4C', '0x95', '0x0B', '0x42', '0xFA', '0xC3', '0x4E',\n",
        "    '0x08', '0x2E', '0xA1', '0x66', '0x28', '0xD9', '0x24', '0xB2', '0x76', '0x5B', '0xA2', '0x49', '0x6D', '0x8B', '0xD1', '0x25',\n",
        "    '0x72', '0xF8', '0xF6', '0x64', '0x86', '0x68', '0x98', '0x16', '0xD4', '0xA4', '0x5C', '0xCC', '0x5D', '0x65', '0xB6', '0x92',\n",
        "    '0x6C', '0x70', '0x48', '0x50', '0xFD', '0xED', '0xB9', '0xDA', '0x5E', '0x15', '0x46', '0x57', '0xA7', '0x8D', '0x9D', '0x84',\n",
        "    '0x90', '0xD8', '0xAB', '0x00', '0x8C', '0xBC', '0xD3', '0x0A', '0xF7', '0xE4', '0x58', '0x05', '0xB8', '0xB3', '0x45', '0x06',\n",
        "    '0xD0', '0x2C', '0x1E', '0x8F', '0xCA', '0x3F', '0x0F', '0x02', '0xC1', '0xAF', '0xBD', '0x03', '0x01', '0x13', '0x8A', '0x6B',\n",
        "    '0x3A', '0x91', '0x11', '0x41', '0x4F', '0x67', '0xDC', '0xEA', '0x97', '0xF2', '0xCF', '0xCE', '0xF0', '0xB4', '0xE6', '0x73',\n",
        "    '0x96', '0xAC', '0x74', '0x22', '0xE7', '0xAD', '0x35', '0x85', '0xE2', '0xF9', '0x37', '0xE8', '0x1C', '0x75', '0xDF', '0x6E',\n",
        "    '0x47', '0xF1', '0x1A', '0x71', '0x1D', '0x29', '0xC5', '0x89', '0x6F', '0xB7', '0x62', '0x0E', '0xAA', '0x18', '0xBE', '0x1B',\n",
        "    '0xFC', '0x56', '0x3E', '0x4B', '0xC6', '0xD2', '0x79', '0x20', '0x9A', '0xDB', '0xC0', '0xFE', '0x78', '0xCD', '0x5A', '0xF4',\n",
        "    '0x1F', '0xDD', '0xA8', '0x33', '0x88', '0x07', '0xC7', '0x31', '0xB1', '0x12', '0x10', '0x59', '0x27', '0x80', '0xEC', '0x5F',\n",
        "    '0x60', '0x51', '0x7F', '0xA9', '0x19', '0xB5', '0x4A', '0x0D', '0x2D', '0xE5', '0x7A', '0x9F', '0x93', '0xC9', '0x9C', '0xEF',\n",
        "    '0xA0', '0xE0', '0x3B', '0x4D', '0xAE', '0x2A', '0xF5', '0xB0', '0xC8', '0xEB', '0xBB', '0x3C', '0x83', '0x53', '0x99', '0x61',\n",
        "    '0x17', '0x2B', '0x04', '0x7E', '0xBA', '0x77', '0xD6', '0x26', '0xE1', '0x69', '0x14', '0x63', '0x55', '0x21', '0x0C', '0x7D',\n",
        ")\n",
        "\n",
        "\n",
        "mix_col_matrix = [['0x02', '0x03', '0x01', '0x01'], ['0x01', '0x02', '0x03', '0x01'], ['0x01', '0x01', '0x02', '0x03'], ['0x03', '0x01', '0x01', '0x02']]\n",
        "inv_mix_col_matrix = [['0x0E', '0x0B', '0x0D', '0x09'], ['0x09', '0x0E', '0x0B', '0x0D'], ['0x0D', '0x09', '0x0E', '0x0B'], ['0x0B', '0x0D', '0x09', '0x0E']]\n",
        "\n",
        "# Mapping dictionary for hexadecimal to integer\n",
        "hex_to_int_mapping = {\n",
        "    '0': 0, '1': 1, '2': 2, '3': 3,\n",
        "    '4': 4, '5': 5, '6': 6, '7': 7,\n",
        "    '8': 8, '9': 9, 'a': 10, 'b': 11,\n",
        "    'c': 12, 'd': 13, 'e': 14, 'f': 15,\n",
        "    'A': 10, 'B': 11,'C': 12, 'D': 13,\n",
        "    'E': 14, 'F': 15\n",
        "}\n",
        "\n",
        "# Rcon values for key expansion\n",
        "rcon = [\n",
        "    ['0x01', '0x00', '0x00', '0x00'],\n",
        "    ['0x02', '0x00', '0x00', '0x00'],\n",
        "    ['0x04', '0x00', '0x00', '0x00'],\n",
        "    ['0x08', '0x00', '0x00', '0x00'],\n",
        "    ['0x10', '0x00', '0x00', '0x00'],\n",
        "    ['0x20', '0x00', '0x00', '0x00'],\n",
        "    ['0x40', '0x00', '0x00', '0x00'],\n",
        "    ['0x80', '0x00', '0x00', '0x00'],\n",
        "    ['0x1b', '0x00', '0x00', '0x00'],\n",
        "    ['0x36', '0x00', '0x00', '0x00']\n",
        "]\n",
        "\n",
        "\n",
        "Nb = 4  # Number of columns (32-bit words) in the state\n",
        "Nk = 4  # Number of columns (32-bit words) in the key\n",
        "Nr = 10  # Number of rounds"
      ],
      "metadata": {
        "colab": {
          "base_uri": "https://localhost:8080/"
        },
        "id": "PhK6lDWuGQ_V",
        "outputId": "023dbaed-3939-478c-e060-02220777e1b7"
      },
      "execution_count": 24,
      "outputs": [
        {
          "output_type": "stream",
          "name": "stdout",
          "text": [
            "Requirement already satisfied: BitVector in /usr/local/lib/python3.10/dist-packages (3.5.0)\n"
          ]
        }
      ]
    },
    {
      "cell_type": "markdown",
      "source": [
        "# **AES Utility functions**"
      ],
      "metadata": {
        "id": "8p_c6W-LhD6Y"
      }
    },
    {
      "cell_type": "code",
      "source": [
        "# Constants for AES\n",
        "\n",
        "\n",
        "# converting hex num to integer\n",
        "def hexToInt(hex_num):\n",
        "  hex_string = hex(hex_num)\n",
        "  integer_value = int(hex_string, 16)\n",
        "  return integer_value\n",
        "\n",
        "\n",
        "# converting integer num to hex\n",
        "def intToHex(integer_value):\n",
        "    hex_string = hex(integer_value)\n",
        "    return hex_string\n",
        "\n",
        "# generating matrix from list :\n",
        "def generatingMatrixFromList(initial_key):\n",
        "    \"\"\"\n",
        "    Convert the initial key list into a 4x4 matrix.\n",
        "\n",
        "    Args:\n",
        "    initial_key: A list of 16 bytes representing the initial key.\n",
        "\n",
        "    Returns:\n",
        "    A 4x4 matrix representing the initial key.\n",
        "    \"\"\"\n",
        "    key_matrix = [\n",
        "        [initial_key[0], initial_key[1], initial_key[2], initial_key[3]],\n",
        "        [initial_key[4], initial_key[5], initial_key[6], initial_key[7]],\n",
        "        [initial_key[8], initial_key[9], initial_key[10], initial_key[11]],\n",
        "        [initial_key[12], initial_key[13], initial_key[14], initial_key[15]]\n",
        "    ]\n",
        "    return key_matrix\n",
        "\n",
        "# calculating xor of two hex strings :\n",
        "def xorHexStrings(hex_str1, hex_str2):\n",
        "\n",
        "    int1 = int(hex_str1, 16)\n",
        "    int2 = int(hex_str2, 16)\n",
        "    # Perform XOR operation\n",
        "    result = int1 ^ int2\n",
        "    # Convert result back to hexadecimal string\n",
        "    hex_result = hex(result)[2:]  # Remove '0x' prefix\n",
        "    # Pad with leading zeros if necessary\n",
        "    hex_result = hex_result.zfill(max(len(hex_str1), len(hex_str2)) - 2)\n",
        "    hex_result = '0x' + hex_result\n",
        "    return hex_result\n",
        "\n",
        "\n",
        "# Helper functions for key expansion :\n",
        "def rotWord(word):\n",
        "    return word[1:] + [word[0]]\n",
        "\n",
        "\n",
        "# Helper functions for substitution :\n",
        "def subWord(word):\n",
        "    for i in range(4):\n",
        "      char1 = word[i][2]\n",
        "      char2 = word[i][3]\n",
        "      word[i] = Sbox[(hex_to_int_mapping[char1]*16)+hex_to_int_mapping[char2]]\n",
        "    return word\n",
        "\n",
        "\n",
        "# key expansion function\n",
        "def keyExpansion(key):\n",
        "    round_keys = [key]\n",
        "\n",
        "    def xorHexWord( w1, w2 ):\n",
        "        return [ xorHexStrings(w1[i] , w2[i]) for i in range(4) ]\n",
        "\n",
        "    def g( w, round_i ):\n",
        "        temp = w.copy()\n",
        "        temp = rotWord(temp)\n",
        "        # print(\"rotword: \", temp)\n",
        "        temp = subWord(temp)\n",
        "        # print(f\"subword[{round_i}]: \", temp)\n",
        "        result = xorHexWord(temp , rcon[round_i - 1])\n",
        "        # print(f\"result[{round_i}]: \", result)\n",
        "        return result\n",
        "\n",
        "\n",
        "    def generate_round_key( round_i ):\n",
        "        prev = round_keys[round_i-1]\n",
        "        w0, w1, w2, w3 = prev\n",
        "        w4 = xorHexWord( w0, g(w3, round_i) )\n",
        "        w5 = xorHexWord( w4, w1 )\n",
        "        w6 = xorHexWord( w5, w2 )\n",
        "        w7 = xorHexWord( w6, w3 )\n",
        "        # print(f\"Rounds [{round_i}]: \", [ w0, w1, w2, w3, w4, w5, w6, w7 ] )\n",
        "        return [ w4, w5, w6, w7 ]\n",
        "\n",
        "\n",
        "    for round_i in range(1,11):\n",
        "        round_keys.append( generate_round_key( round_i ) )\n",
        "\n",
        "    return round_keys\n",
        "\n",
        "\n",
        "# calculating xor of two matrix :\n",
        "def xorMatrix(mat1, mat2) :\n",
        "  for i in range (4):\n",
        "    for j in range (4):\n",
        "      mat1[i][j] = xorHexStrings(mat1[i][j], mat2[i][j])\n",
        "  return mat1\n",
        "\n",
        "\n",
        "# calculating substitution of a matrix :\n",
        "def subMatrix(state):\n",
        "  for i in range (Nb):\n",
        "    state[i] = subWord(state[i])\n",
        "  return state\n",
        "\n",
        "\n",
        "# performing shift matrix row operation :\n",
        "def shiftMatrixRow(state):\n",
        "    for i in range(1, 4):\n",
        "        state[i] = state[i][i:] + state[i][:i]\n",
        "    return state\n",
        "\n",
        "\n",
        "def multiplyHexStrings(hex_str1, hex_str2):\n",
        "\n",
        "    # Convert hexadecimal strings to integers\n",
        "    int1 = int(hex_str1, 16)\n",
        "    int2 = int(hex_str2, 16)\n",
        "\n",
        "    # Perform multiplication\n",
        "    result = int1 * int2\n",
        "\n",
        "    # Convert result back to hexadecimal string\n",
        "    hex_result = hex(result)[2:]  # Remove '0x' prefix\n",
        "    hex_result = hex_result.zfill(max(len(hex_str1), len(hex_str2)) - 2)\n",
        "\n",
        "    return hex_result\n",
        "\n",
        "# assumin **b** will always be 1 or 2 or 3\n",
        "def gmul(a, b):\n",
        "  # print(\"before: \", a,b)\n",
        "  a = int(a, 16)\n",
        "  b = int(b, 16)\n",
        "  # print(\"after: \", a,b)\n",
        "  if b == 1:\n",
        "      return hex(a)\n",
        "  tmp = (a << 1) & 0xff\n",
        "  if b == 2:\n",
        "      return hex(tmp) if a < 128 else xorHexStrings( hex(tmp), hex(0x1b) )\n",
        "  if b == 3:\n",
        "      return xorHexStrings( gmul(hex(a), hex(2)), hex(a) )\n",
        "\n",
        "\n",
        "# multiplying two matrix :\n",
        "def matrix_multiply(matrix1, matrix2):\n",
        "    result = [['0x00' for _ in range(4)] for _ in range(4)]  # Initialize result matrix with zeros\n",
        "    for i in range(4):\n",
        "        for j in range(4):\n",
        "            # Compute the dot product of the ith row of matrix1 and the jth column of matrix2\n",
        "            for k in range(4):\n",
        "              gmul_ans = gmul(matrix2[k][j], matrix1[i][k])\n",
        "              result[i][j] = xorHexStrings(result[i][j], gmul_ans ) # Perform XOR operation for each element\n",
        "\n",
        "    return result\n",
        "\n",
        "# applying mix column operation :\n",
        "def mixColumn(mix_col_matrix,state):\n",
        "   return matrix_multiply(mix_col_matrix,state)\n",
        "\n",
        "# function for printing matrix :\n",
        "def print_matrix(matrix):\n",
        "  for row in matrix:\n",
        "    print(row)\n",
        "\n",
        "# function to convert a plaintext to hex-string list :\n",
        "def plaintext_to_hex_string_list(key_hex):\n",
        "  idx = 0\n",
        "  ret = []\n",
        "  while idx<len(key_hex):\n",
        "\n",
        "    key_list = [key_hex[i:i+2] for i in range(idx, min(idx+31,len(key_hex)), 2)]\n",
        "\n",
        "    while(len(key_list)<16):\n",
        "      key_list.append(\"20\")\n",
        "\n",
        "    key_list = [f'0x{byte}' for byte in key_list]\n",
        "    idx+=32\n",
        "    ret.append(key_list)\n",
        "  return ret\n",
        "\n",
        "\n",
        "def transpose( mat ):\n",
        "    return np.array(mat).transpose().tolist()\n"
      ],
      "metadata": {
        "id": "9FCSgpmOaklQ"
      },
      "execution_count": 25,
      "outputs": []
    },
    {
      "cell_type": "markdown",
      "source": [
        "#**AES encryption**"
      ],
      "metadata": {
        "id": "HvmE5WToMDNI"
      }
    },
    {
      "cell_type": "code",
      "source": [
        "# Example AES encryption with 128-bit input plaintext\n",
        "\n",
        "def encrypt(initial_state, initial_key):\n",
        "  \"\"\"\n",
        "  AES encryption function for 128-bit input plaintext.\n",
        "\n",
        "  Args:\n",
        "  plaintext: A list of 16 bytes (integers) representing the plaintext.\n",
        "  round_keys: A list of 11 round keys (each key is a 4x4 matrix).\n",
        "\n",
        "  Returns:\n",
        "  The ciphertext obtained by encrypting the plaintext using AES algorithm.\n",
        "  \"\"\"\n",
        "\n",
        "  # Reshape the initial key into a 4x4 matrix :\n",
        "  key_matrix = generatingMatrixFromList(initial_key)\n",
        "\n",
        "  # generating round keys :\n",
        "  round_keys = keyExpansion(key_matrix)\n",
        "\n",
        "  state_matrix = transpose( generatingMatrixFromList(initial_state) )\n",
        "  new_state_matrix = xorMatrix(state_matrix, transpose( round_keys[0] ) )\n",
        "\n",
        "  # new_state_matrix = np.array(new_state_matrix).transpose().tolist()\n",
        "\n",
        "  for i in range(1,10):\n",
        "    new_state_matrix = subMatrix(new_state_matrix)\n",
        "    # print(\"after substitution : \")\n",
        "    # print_matrix(new_state_matrix)\n",
        "    # print()\n",
        "\n",
        "    new_state_matrix =  shiftMatrixRow(new_state_matrix)\n",
        "    # print(\"after shift matrix row : \")\n",
        "    # print_matrix(new_state_matrix)\n",
        "    # print()\n",
        "\n",
        "    new_state_matrix = mixColumn(mix_col_matrix, new_state_matrix)\n",
        "    # print(\"after mix column : \")\n",
        "    # print_matrix(new_state_matrix)\n",
        "    # print()\n",
        "\n",
        "    new_state_matrix = xorMatrix(new_state_matrix, transpose( round_keys[i] ) )\n",
        "    # print(\"after add round key : \")\n",
        "    # print_matrix(new_state_matrix)\n",
        "    # print()\n",
        "\n",
        "  # round 10 of aes :\n",
        "  # print(\"for round \",10,\" :  \\n\")\n",
        "  new_state_matrix = subMatrix(new_state_matrix)\n",
        "  # print(\"after substitution : \")\n",
        "  # print_matrix(new_state_matrix)\n",
        "  # print()\n",
        "\n",
        "  # print(\"after shift matrix row : \")\n",
        "  new_state_matrix =  shiftMatrixRow(new_state_matrix)\n",
        "  # print_matrix(new_state_matrix)\n",
        "  # print()\n",
        "\n",
        "  # print(\"after add round key : \")\n",
        "  new_state_matrix = xorMatrix(new_state_matrix, transpose( round_keys[10] ) )\n",
        "  # print_matrix(new_state_matrix)\n",
        "  # print()\n",
        "\n",
        "  return new_state_matrix\n",
        "\n",
        "\n"
      ],
      "metadata": {
        "id": "cSR7uvTQn4_l"
      },
      "execution_count": 26,
      "outputs": []
    },
    {
      "cell_type": "markdown",
      "source": [],
      "metadata": {
        "id": "Q8O9FYfX6dxT"
      }
    },
    {
      "cell_type": "markdown",
      "source": [
        "#**AES decryption utility functions**"
      ],
      "metadata": {
        "id": "QSZA8telrB2U"
      }
    },
    {
      "cell_type": "code",
      "source": [
        "# @title\n",
        "def invShiftRow(state):\n",
        "    for i in range(1, 4):\n",
        "        state[i] = state[i][-i:] + state[i][:-i]\n",
        "    return state\n",
        "\n",
        "\n",
        "def invSubWord(word):\n",
        "    for i in range(4):\n",
        "      char1 = word[i][2]\n",
        "      char2 = word[i][3]\n",
        "      word[i] = InvSbox[(hex_to_int_mapping[char1]*16)+hex_to_int_mapping[char2]]\n",
        "    return word\n",
        "\n",
        "\n",
        "def invSubMatrix(state):\n",
        "  for i in range (Nb):\n",
        "    state[i] = invSubWord(state[i])\n",
        "  return state\n",
        "\n",
        "\n",
        "# finite field multiplication within 2^8\n",
        "def inv_gmul(x, y):\n",
        "\n",
        "    x = int( x, 16 )\n",
        "    y = int( y, 16 )\n",
        "\n",
        "    p = 0b100011011             # mpy modulo x^8+x^4+x^3+x+1\n",
        "    m = 0                       # m will be product\n",
        "    for i in range(8):\n",
        "        m = m << 1\n",
        "        if m & 0b100000000:\n",
        "            m = m ^ p\n",
        "        if y & 0b010000000:\n",
        "            m = m ^ x\n",
        "        y = y << 1\n",
        "    return hex(m)\n",
        "\n",
        "\n",
        "\n",
        "def inv_matrix_multiply(matrix1, matrix2):\n",
        "    result = [['0x00' for _ in range(4)] for _ in range(4)]  # Initialize result matrix with zeros\n",
        "    for i in range(4):\n",
        "        for j in range(4):\n",
        "            # Compute the dot product of the ith row of matrix1 and the jth column of matrix2\n",
        "            for k in range(4):\n",
        "              gmul_ans = inv_gmul(matrix2[k][j], matrix1[i][k])\n",
        "              result[i][j] = xorHexStrings(result[i][j], gmul_ans ) # Perform XOR operation for each element\n",
        "\n",
        "    return result\n",
        "\n",
        "\n",
        "# applying mix column operation :\n",
        "def invMixColumn( inv_mix_col_matrix, state ):\n",
        "    return inv_matrix_multiply(inv_mix_col_matrix,state)\n",
        "\n"
      ],
      "metadata": {
        "id": "5riQkbsmrIgY"
      },
      "execution_count": 27,
      "outputs": []
    },
    {
      "cell_type": "markdown",
      "source": [],
      "metadata": {
        "id": "0V8CMfjj6xfy"
      }
    },
    {
      "cell_type": "markdown",
      "source": [
        "#**AES decryption function**"
      ],
      "metadata": {
        "id": "UzvOfCqCjR4s"
      }
    },
    {
      "cell_type": "code",
      "source": [
        "# @title\n",
        "# Example AES encryption with 128-bit input plaintext\n",
        "\n",
        "def decrypt(cipher_matrix, initial_key):\n",
        "\n",
        "  # Reshape the initial key into a 4x4 matrix :\n",
        "  key_matrix = generatingMatrixFromList(initial_key)\n",
        "\n",
        "  # generating round keys :\n",
        "  round_keys = keyExpansion(key_matrix)\n",
        "  round_keys.reverse()\n",
        "\n",
        "  # for i in range (11):\n",
        "  #   print(\"round \", i, \" \", round_keys[i])\n",
        "\n",
        "\n",
        "  # cipher_matrix = transpose(cipher_matrix)\n",
        "\n",
        "  # print_matrix(round_keys)\n",
        "\n",
        "  new_state_matrix = xorMatrix(cipher_matrix, transpose( round_keys[0]) )\n",
        "  # print(\"after first inverse add round key : \")\n",
        "  # print_matrix(new_state_matrix)\n",
        "  # print()\n",
        "\n",
        "  # new_state_matrix = np.array(new_state_matrix).transpose().tolist()\n",
        "\n",
        "  for i in range(1,10):\n",
        "    new_state_matrix = invShiftRow(new_state_matrix)\n",
        "    # print(\"after inverse shift matrix row : \")\n",
        "    # print_matrix(new_state_matrix)\n",
        "    # print()\n",
        "\n",
        "    new_state_matrix = invSubMatrix(new_state_matrix)\n",
        "    # print(\"after inverse substitution : \")\n",
        "    # print_matrix(new_state_matrix)\n",
        "    # print()\n",
        "\n",
        "    new_state_matrix = xorMatrix(new_state_matrix, transpose( round_keys[i] ) )\n",
        "    # print(\"after inverse add round key : \")\n",
        "    # print_matrix(new_state_matrix)\n",
        "    # print()\n",
        "\n",
        "    new_state_matrix = invMixColumn(inv_mix_col_matrix, new_state_matrix)\n",
        "    # print(\"after inverse mix column : \")\n",
        "    # print_matrix(new_state_matrix)\n",
        "    # print()\n",
        "\n",
        "\n",
        "  # round 10 of aes :\n",
        "  new_state_matrix = invShiftRow(new_state_matrix)\n",
        "  # print(\"after inverse shift matrix row : \")\n",
        "  # print_matrix(new_state_matrix)\n",
        "  # print()\n",
        "\n",
        "  new_state_matrix = invSubMatrix(new_state_matrix)\n",
        "  # print(\"after inverse substitution : \")\n",
        "  # print_matrix(new_state_matrix)\n",
        "  # print()\n",
        "\n",
        "  new_state_matrix = xorMatrix(new_state_matrix, transpose(round_keys[10]) )\n",
        "  # print(\"after inverse add round key : \")\n",
        "  # print_matrix(new_state_matrix)\n",
        "  # print()\n",
        "\n",
        "  return new_state_matrix"
      ],
      "metadata": {
        "id": "ZiqiBwhDjIvn"
      },
      "execution_count": 28,
      "outputs": []
    },
    {
      "cell_type": "markdown",
      "source": [
        "#**AES sample input 1**"
      ],
      "metadata": {
        "id": "HtYPpGhTMXuB"
      }
    },
    {
      "cell_type": "code",
      "source": [
        "initial_state = ['0x54', '0x77', '0x6f', '0x20',\n",
        "                 '0x4f', '0x6e', '0x65', '0x20',\n",
        "                 '0x4e', '0x69', '0x6e', '0x65',\n",
        "                 '0x20', '0x54', '0x77', '0x6f']\n",
        "\n",
        "initial_key = ['0x54', '0x68', '0x61', '0x74', '0x73', '0x20', '0x6d', '0x79', '0x20', '0x4B', '0x75', '0x6e', '0x67', '0x20', '0x46', '0x75']\n",
        "\n",
        "# for sample input 1\n",
        "print( \"initial state: \" )\n",
        "print( transpose( generatingMatrixFromList( initial_state ) ) )\n",
        "encrypted_matrix = encrypt(initial_state, initial_key)\n",
        "\n",
        "print(\"Encrypted: \", encrypted_matrix)\n",
        "\n",
        "print( f\"Decrypted: { decrypt(encrypted_matrix,initial_key) }\")\n",
        "\n",
        "\n"
      ],
      "metadata": {
        "id": "BjhZsEZnyZRn",
        "colab": {
          "base_uri": "https://localhost:8080/"
        },
        "outputId": "4807ed02-db78-4b26-d39f-c2f2e5703f6a"
      },
      "execution_count": 29,
      "outputs": [
        {
          "output_type": "stream",
          "name": "stdout",
          "text": [
            "initial state: \n",
            "[['0x54', '0x4f', '0x4e', '0x20'], ['0x77', '0x6e', '0x69', '0x54'], ['0x6f', '0x65', '0x6e', '0x77'], ['0x20', '0x20', '0x65', '0x6f']]\n",
            "Encrypted:  [['0x29', '0x57', '0x40', '0x1a'], ['0xc3', '0x14', '0x22', '0x02'], ['0x50', '0x20', '0x99', '0xd7'], ['0x5f', '0xf6', '0xb3', '0x3a']]\n",
            "Decrypted: [['0x54', '0x4f', '0x4e', '0x20'], ['0x77', '0x6e', '0x69', '0x54'], ['0x6f', '0x65', '0x6e', '0x77'], ['0x20', '0x20', '0x65', '0x6f']]\n"
          ]
        }
      ]
    },
    {
      "cell_type": "markdown",
      "source": [
        "#**AES for sample input 2**\n"
      ],
      "metadata": {
        "id": "r11aEILRNxyi"
      }
    },
    {
      "cell_type": "code",
      "source": [
        "initial_state1 = ['0x49', '0x73', '0x54', '0x68',\n",
        "                  '0x65','0x69','0x72', '0x43',\n",
        "                  '0x61','0x72','0x6e','0x69',\n",
        "                  '0x76','0x61','0x6c', '0x53']\n",
        "\n",
        "# initial_state2 = ['0x75','0x73','0x6c','0x00',\n",
        "#                   '0x63','0x73','0x00','0x00',\n",
        "#                   '0x63','0x66','0x00','0x00',\n",
        "#                   '0x65','0x75','0x00','0x00' ]\n",
        "\n",
        "# without transpose\n",
        "initial_state2 = ['0x75', '0x63', '0x63', '0x65',\n",
        "                  '0x73', '0x73', '0x66', '0x75',\n",
        "                  '0x6c', '0x20', '0x20', '0x20',\n",
        "                  '0x20', '0x20', '0x20', '0x20']\n",
        "\n",
        "\n",
        "initial_key = ['0x53', '0x55', '0x53', '0x54', '0x20', '0x43', '0x53', '0x45', '0x31', '0x39', '0x20', '0x42', '0x61', '0x74', '0x63', '0x68']\n",
        "# key_matrix = generatingMatrixFromList(initial_key)\n",
        "# print(key_matrix)\n",
        "# round_keys = keyExpansion(key_matrix)\n",
        "# initial_key2 = np.array(round_keys[-1]).flatten().tolist()\n",
        "\n",
        "# for sample input 1\n",
        "print( \"initial state: \" )\n",
        "print( transpose( generatingMatrixFromList( initial_state1 )  ), transpose( generatingMatrixFromList( initial_state2 )  ) )\n",
        "encrypted_matrix1 = encrypt(initial_state1, initial_key)\n",
        "encrypted_matrix2 = encrypt(initial_state2, initial_key)\n",
        "\n",
        "print(\"Encrypted: \", encrypted_matrix1, encrypted_matrix2)\n",
        "\n",
        "print( f\"Decrypted: { decrypt(encrypted_matrix1,initial_key) } { decrypt(encrypted_matrix2,initial_key) }\")\n"
      ],
      "metadata": {
        "id": "KzSwaE2F5JHF",
        "colab": {
          "base_uri": "https://localhost:8080/"
        },
        "outputId": "d9e18014-27f9-4cf6-b17f-c28f80f6715a"
      },
      "execution_count": 30,
      "outputs": [
        {
          "output_type": "stream",
          "name": "stdout",
          "text": [
            "initial state: \n",
            "[['0x49', '0x65', '0x61', '0x76'], ['0x73', '0x69', '0x72', '0x61'], ['0x54', '0x72', '0x6e', '0x6c'], ['0x68', '0x43', '0x69', '0x53']] [['0x75', '0x73', '0x6c', '0x20'], ['0x63', '0x73', '0x20', '0x20'], ['0x63', '0x66', '0x20', '0x20'], ['0x65', '0x75', '0x20', '0x20']]\n",
            "Encrypted:  [['0x7d', '0xc4', '0xb4', '0x8d'], ['0x05', '0xcd', '0xca', '0x77'], ['0x8e', '0x1a', '0x42', '0x1c'], ['0x00', '0x1e', '0xc8', '0x11']] [['0x1f', '0x50', '0x0a', '0x82'], ['0x33', '0x22', '0x53', '0xd0'], ['0x51', '0xa6', '0xe3', '0x02'], ['0x65', '0x0e', '0x36', '0x6f']]\n",
            "Decrypted: [['0x49', '0x65', '0x61', '0x76'], ['0x73', '0x69', '0x72', '0x61'], ['0x54', '0x72', '0x6e', '0x6c'], ['0x68', '0x43', '0x69', '0x53']] [['0x75', '0x73', '0x6c', '0x20'], ['0x63', '0x73', '0x20', '0x20'], ['0x63', '0x66', '0x20', '0x20'], ['0x65', '0x75', '0x20', '0x20']]\n"
          ]
        }
      ]
    },
    {
      "cell_type": "markdown",
      "source": [
        "#**AES for sample input 3**"
      ],
      "metadata": {
        "id": "1OVUHrMWZ3lq"
      }
    },
    {
      "cell_type": "code",
      "source": [
        "plaintext = \"59657354686579486176654d616465497441744c617374\"\n",
        "key = \"53555354204353453139204261746368\"\n",
        "\n",
        "initial_state1 ,initial_state2 = plaintext_to_hex_string_list(plaintext)\n",
        "# print(initial_state1)\n",
        "# print(initial_state2)\n",
        "\n",
        "# print(len(initial_key))\n",
        "print( \"initial state: \" )\n",
        "print( transpose( generatingMatrixFromList( initial_state1 )  ), transpose( generatingMatrixFromList( initial_state2 )  ) )\n",
        "encrypted_matrix1 = encrypt(initial_state1, initial_key)\n",
        "encrypted_matrix2 = encrypt(initial_state2, initial_key)\n",
        "\n",
        "print(\"Encrypted: \", encrypted_matrix1, encrypted_matrix2)\n",
        "\n",
        "print( f\"Decrypted: { decrypt(encrypted_matrix1,initial_key) } { decrypt(encrypted_matrix2,initial_key) }\")\n"
      ],
      "metadata": {
        "id": "7V_cJ193iA6s",
        "colab": {
          "base_uri": "https://localhost:8080/"
        },
        "outputId": "b66d84ce-c23d-4a14-e02c-831cbef34abd"
      },
      "execution_count": 31,
      "outputs": [
        {
          "output_type": "stream",
          "name": "stdout",
          "text": [
            "initial state: \n",
            "[['0x59', '0x68', '0x61', '0x61'], ['0x65', '0x65', '0x76', '0x64'], ['0x73', '0x79', '0x65', '0x65'], ['0x54', '0x48', '0x4d', '0x49']] [['0x74', '0x61', '0x20', '0x20'], ['0x41', '0x73', '0x20', '0x20'], ['0x74', '0x74', '0x20', '0x20'], ['0x4c', '0x20', '0x20', '0x20']]\n",
            "Encrypted:  [['0x15', '0x14', '0xc1', '0x06'], ['0x54', '0x58', '0x01', '0x8f'], ['0x15', '0x36', '0x45', '0x40'], ['0x77', '0x07', '0x71', '0x59']] [['0xd6', '0x1f', '0xb2', '0xbd'], ['0x18', '0x8e', '0xfb', '0x6d'], ['0xf1', '0x71', '0xee', '0x3a'], ['0x57', '0x9b', '0x5e', '0xcf']]\n",
            "Decrypted: [['0x59', '0x68', '0x61', '0x61'], ['0x65', '0x65', '0x76', '0x64'], ['0x73', '0x79', '0x65', '0x65'], ['0x54', '0x48', '0x4d', '0x49']] [['0x74', '0x61', '0x20', '0x20'], ['0x41', '0x73', '0x20', '0x20'], ['0x74', '0x74', '0x20', '0x20'], ['0x4c', '0x20', '0x20', '0x20']]\n"
          ]
        }
      ]
    },
    {
      "cell_type": "markdown",
      "source": [
        "# **AES for sample input 4**"
      ],
      "metadata": {
        "id": "WFwYNZ7rgVs9"
      }
    },
    {
      "cell_type": "code",
      "source": [
        "plaintext = \"425545546e6967687466616c6c5673535553546775657373666f726365\"\n",
        "key = \"42554554435345565353555354435345\"\n",
        "\n",
        "initial_state1 ,initial_state2 = plaintext_to_hex_string_list(plaintext)\n",
        "# print(initial_state1)\n",
        "# print(initial_state2)\n",
        "\n",
        "# print(len(initial_key))\n",
        "initial_key = plaintext_to_hex_string_list(key)[0]\n",
        "# print(initial_key)\n",
        "\n",
        "print( \"initial state: \" )\n",
        "print( transpose( generatingMatrixFromList( initial_state1 )  ), transpose( generatingMatrixFromList( initial_state2 )  ) )\n",
        "encrypted_matrix1 = encrypt(initial_state1, initial_key)\n",
        "encrypted_matrix2 = encrypt(initial_state2, initial_key)\n",
        "\n",
        "print(\"Encrypted: \", encrypted_matrix1, encrypted_matrix2)\n",
        "\n",
        "print( f\"Decrypted: { decrypt(encrypted_matrix1,initial_key) } { decrypt(encrypted_matrix2,initial_key) }\")\n"
      ],
      "metadata": {
        "id": "VK24oOIDZW-o",
        "colab": {
          "base_uri": "https://localhost:8080/"
        },
        "outputId": "fb7921d1-7651-4cd2-bfaf-01e76c2b3035"
      },
      "execution_count": 32,
      "outputs": [
        {
          "output_type": "stream",
          "name": "stdout",
          "text": [
            "initial state: \n",
            "[['0x42', '0x6e', '0x74', '0x6c'], ['0x55', '0x69', '0x66', '0x56'], ['0x45', '0x67', '0x61', '0x73'], ['0x54', '0x68', '0x6c', '0x53']] [['0x55', '0x75', '0x66', '0x65'], ['0x53', '0x65', '0x6f', '0x20'], ['0x54', '0x73', '0x72', '0x20'], ['0x67', '0x73', '0x63', '0x20']]\n",
            "Encrypted:  [['0x36', '0x34', '0x94', '0x95'], ['0x8d', '0xa1', '0xad', '0x44'], ['0x9d', '0xbc', '0xd4', '0x43'], ['0x91', '0xe9', '0xcc', '0xcd']] [['0x8b', '0x98', '0xee', '0x7e'], ['0xee', '0xdf', '0x10', '0x0c'], ['0xbf', '0x32', '0xb8', '0xf8'], ['0xbd', '0x9d', '0x01', '0x0f']]\n",
            "Decrypted: [['0x42', '0x6e', '0x74', '0x6c'], ['0x55', '0x69', '0x66', '0x56'], ['0x45', '0x67', '0x61', '0x73'], ['0x54', '0x68', '0x6c', '0x53']] [['0x55', '0x75', '0x66', '0x65'], ['0x53', '0x65', '0x6f', '0x20'], ['0x54', '0x73', '0x72', '0x20'], ['0x67', '0x73', '0x63', '0x20']]\n"
          ]
        }
      ]
    },
    {
      "cell_type": "markdown",
      "source": [],
      "metadata": {
        "id": "jATKep-naPlb"
      }
    }
  ]
}